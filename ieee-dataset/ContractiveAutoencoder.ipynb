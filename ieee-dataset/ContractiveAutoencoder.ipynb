{
 "cells": [
  {
   "cell_type": "code",
   "execution_count": 1,
   "id": "abfde03c",
   "metadata": {},
   "outputs": [
    {
     "name": "stderr",
     "output_type": "stream",
     "text": [
      "2023-05-09 08:25:54.188847: I tensorflow/core/platform/cpu_feature_guard.cc:182] This TensorFlow binary is optimized to use available CPU instructions in performance-critical operations.\n",
      "To enable the following instructions: AVX2 FMA, in other operations, rebuild TensorFlow with the appropriate compiler flags.\n"
     ]
    }
   ],
   "source": [
    "import pandas as pd\n",
    "import numpy as np\n",
    "import tensorflow as tf\n",
    "import matplotlib.pyplot as plt\n",
    "from keras import backend as K\n",
    "from keras.models import Model\n",
    "from keras import regularizers\n",
    "from keras.layers import Input, Dense, Lambda\n",
    "from sklearn.impute import SimpleImputer\n",
    "from imblearn.over_sampling import SMOTE\n",
    "from sklearn.ensemble import RandomForestClassifier\n",
    "from sklearn.model_selection import train_test_split\n",
    "from sklearn.preprocessing import LabelEncoder, StandardScaler\n",
    "from sklearn.metrics import accuracy_score, precision_score, recall_score, f1_score, roc_curve, roc_auc_score, classification_report, confusion_matrix, matthews_corrcoef\n",
    "from tensorflow.python.framework.ops import disable_eager_execution\n",
    "\n",
    "disable_eager_execution()\n",
    "\n",
    "# configure Keras to use GPU\n",
    "tf.config.experimental.set_visible_devices([], 'GPU')"
   ]
  },
  {
   "cell_type": "code",
   "execution_count": 2,
   "id": "448332bb",
   "metadata": {},
   "outputs": [],
   "source": [
    "# Load data\n",
    "transactions = pd.read_csv('/Users/user/Documents/datasets/ieee/train_transaction.csv', index_col='TransactionID')\n",
    "identity = pd.read_csv('/Users/user/Documents/datasets/ieee/train_identity.csv', index_col='TransactionID')\n",
    "data = transactions.merge(identity, how='left', left_index=True, right_index=True)"
   ]
  },
  {
   "cell_type": "code",
   "execution_count": 3,
   "id": "eb571621",
   "metadata": {},
   "outputs": [],
   "source": [
    "# Split into train and test sets\n",
    "X_train, X_test, y_train, y_test = train_test_split(\n",
    "    data.drop('isFraud', axis=1),\n",
    "    data['isFraud'],\n",
    "    test_size=0.2,\n",
    "    random_state=42\n",
    ")"
   ]
  },
  {
   "cell_type": "code",
   "execution_count": 4,
   "id": "9e13416d",
   "metadata": {},
   "outputs": [],
   "source": [
    "# Data preprocessing\n",
    "categorical_cols = [col for col in X_train.columns if X_train[col].dtype == 'object']\n",
    "numerical_cols = [col for col in X_train.columns if col not in categorical_cols]\n",
    "for col in categorical_cols:\n",
    "    X_train[col] = X_train[col].fillna('unknown')\n",
    "    X_test[col] = X_test[col].fillna('unknown')\n",
    "    le = LabelEncoder()\n",
    "    le.fit(list(X_train[col].values) + list(X_test[col].values))\n",
    "    X_train[col] = le.transform(X_train[col])\n",
    "    X_test[col] = le.transform(X_test[col])"
   ]
  },
  {
   "cell_type": "code",
   "execution_count": 5,
   "id": "9c5df76a",
   "metadata": {},
   "outputs": [],
   "source": [
    "scaler = StandardScaler()\n",
    "X_train[numerical_cols] = scaler.fit_transform(X_train[numerical_cols])\n",
    "X_test[numerical_cols] = scaler.transform(X_test[numerical_cols])"
   ]
  },
  {
   "cell_type": "code",
   "execution_count": 6,
   "id": "176820a9",
   "metadata": {},
   "outputs": [],
   "source": [
    "X_train = X_train.fillna(0)\n",
    "X_test = X_test.fillna(0)"
   ]
  },
  {
   "cell_type": "code",
   "execution_count": 7,
   "id": "d80c5a7c",
   "metadata": {},
   "outputs": [
    {
     "name": "stdout",
     "output_type": "stream",
     "text": [
      "Train on 364808 samples, validate on 91203 samples\n",
      "Epoch 1/100\n",
      "   224/364808 [..............................] - ETA: 7:00 - loss: 6935.7097 "
     ]
    },
    {
     "name": "stderr",
     "output_type": "stream",
     "text": [
      "2023-05-09 08:27:36.193275: W tensorflow/c/c_api.cc:300] Operation '{name:'training/Adam/dense_1/bias/m/Assign' id:351 op device:{requested: '', assigned: ''} def:{{{node training/Adam/dense_1/bias/m/Assign}} = AssignVariableOp[_has_manual_control_dependencies=true, dtype=DT_FLOAT, validate_shape=false](training/Adam/dense_1/bias/m, training/Adam/dense_1/bias/m/Initializer/zeros)}}' was changed by setting attribute after it was run by a session. This mutation will have no effect, and will trigger an error in the future. Either don't modify nodes after running them or create a new session.\n"
     ]
    },
    {
     "name": "stdout",
     "output_type": "stream",
     "text": [
      "364672/364808 [============================>.] - ETA: 0s - loss: 3250.0588"
     ]
    },
    {
     "name": "stderr",
     "output_type": "stream",
     "text": [
      "/Users/user/Library/Python/3.9/lib/python/site-packages/keras/engine/training_v1.py:2335: UserWarning: `Model.state_updates` will be removed in a future version. This property should not be used in TensorFlow 2.0, as `updates` are applied automatically.\n",
      "  updates = self.state_updates\n",
      "2023-05-09 08:28:17.177106: W tensorflow/c/c_api.cc:300] Operation '{name:'loss/AddN' id:146 op device:{requested: '', assigned: ''} def:{{{node loss/AddN}} = AddN[N=2, T=DT_FLOAT, _has_manual_control_dependencies=true](loss/mul, dense/ActivityRegularizer/truediv)}}' was changed by setting attribute after it was run by a session. This mutation will have no effect, and will trigger an error in the future. Either don't modify nodes after running them or create a new session.\n"
     ]
    },
    {
     "name": "stdout",
     "output_type": "stream",
     "text": [
      "364808/364808 [==============================] - 46s 126us/sample - loss: 3249.1505 - val_loss: 821.3665\n",
      "Epoch 2/100\n",
      "364808/364808 [==============================] - 44s 120us/sample - loss: 181.9913 - val_loss: 10.4470\n",
      "Epoch 3/100\n",
      "364808/364808 [==============================] - 44s 120us/sample - loss: 8.0137 - val_loss: 6.3919\n",
      "Epoch 4/100\n",
      "364808/364808 [==============================] - 43s 119us/sample - loss: 6.1819 - val_loss: 4.8806\n",
      "Epoch 5/100\n",
      "364808/364808 [==============================] - 42s 116us/sample - loss: 5.1271 - val_loss: 4.2378\n",
      "Epoch 6/100\n",
      "364808/364808 [==============================] - 42s 115us/sample - loss: 4.6025 - val_loss: 4.0405\n",
      "Epoch 7/100\n",
      "364808/364808 [==============================] - 43s 117us/sample - loss: 4.5002 - val_loss: 4.1993\n",
      "Epoch 8/100\n",
      "364808/364808 [==============================] - 42s 115us/sample - loss: 4.2675 - val_loss: 4.3838\n",
      "Epoch 9/100\n",
      "364808/364808 [==============================] - 43s 118us/sample - loss: 4.3053 - val_loss: 4.2594\n",
      "Epoch 10/100\n",
      "364808/364808 [==============================] - 40s 110us/sample - loss: 3.9548 - val_loss: 3.2731\n",
      "Epoch 11/100\n",
      "364808/364808 [==============================] - 39s 106us/sample - loss: 3.7869 - val_loss: 3.0433\n",
      "Epoch 12/100\n",
      "364808/364808 [==============================] - 39s 108us/sample - loss: 3.8192 - val_loss: 3.2424\n",
      "Epoch 13/100\n",
      "364808/364808 [==============================] - 39s 108us/sample - loss: 3.7365 - val_loss: 5.5270\n",
      "Epoch 14/100\n",
      "364808/364808 [==============================] - 34s 94us/sample - loss: 3.6116 - val_loss: 3.4458\n",
      "Epoch 15/100\n",
      "364808/364808 [==============================] - 35s 96us/sample - loss: 3.4502 - val_loss: 3.0484\n",
      "Epoch 16/100\n",
      "364808/364808 [==============================] - 36s 98us/sample - loss: 3.6174 - val_loss: 3.9415\n",
      "Epoch 17/100\n",
      "364808/364808 [==============================] - 39s 108us/sample - loss: 3.3070 - val_loss: 2.8665\n",
      "Epoch 18/100\n",
      "364808/364808 [==============================] - 39s 107us/sample - loss: 3.2906 - val_loss: 2.7972\n",
      "Epoch 19/100\n",
      "364808/364808 [==============================] - 39s 107us/sample - loss: 3.4102 - val_loss: 3.8174\n",
      "Epoch 20/100\n",
      "364808/364808 [==============================] - 39s 107us/sample - loss: 3.1487 - val_loss: 2.6161\n",
      "Epoch 21/100\n",
      "364808/364808 [==============================] - 39s 106us/sample - loss: 3.3432 - val_loss: 2.7199\n",
      "Epoch 22/100\n",
      "364808/364808 [==============================] - 38s 105us/sample - loss: 3.2524 - val_loss: 2.9643\n",
      "Epoch 23/100\n",
      "364808/364808 [==============================] - 39s 106us/sample - loss: 3.0247 - val_loss: 2.6811\n",
      "Epoch 24/100\n",
      "364808/364808 [==============================] - 39s 107us/sample - loss: 3.2963 - val_loss: 2.8189\n",
      "Epoch 25/100\n",
      "364808/364808 [==============================] - 39s 106us/sample - loss: 3.0805 - val_loss: 3.1948\n",
      "Epoch 26/100\n",
      "364808/364808 [==============================] - 39s 108us/sample - loss: 3.0292 - val_loss: 2.6864\n",
      "Epoch 27/100\n",
      "364808/364808 [==============================] - 39s 108us/sample - loss: 3.2353 - val_loss: 4.9262\n",
      "Epoch 28/100\n",
      "364808/364808 [==============================] - 39s 106us/sample - loss: 3.3014 - val_loss: 2.9823\n",
      "Epoch 29/100\n",
      "364808/364808 [==============================] - 39s 106us/sample - loss: 3.2790 - val_loss: 3.2088\n",
      "Epoch 30/100\n",
      "364808/364808 [==============================] - 40s 108us/sample - loss: 3.2305 - val_loss: 3.0617\n",
      "Epoch 31/100\n",
      "364808/364808 [==============================] - 36s 98us/sample - loss: 2.9809 - val_loss: 2.7444\n",
      "Epoch 32/100\n",
      "364808/364808 [==============================] - 35s 97us/sample - loss: 2.9312 - val_loss: 2.7616\n",
      "Epoch 33/100\n",
      "364808/364808 [==============================] - 35s 95us/sample - loss: 3.1689 - val_loss: 2.8870\n",
      "Epoch 34/100\n",
      "364808/364808 [==============================] - 35s 95us/sample - loss: 3.0612 - val_loss: 2.5776\n",
      "Epoch 35/100\n",
      "364808/364808 [==============================] - 35s 96us/sample - loss: 2.8195 - val_loss: 2.7205\n",
      "Epoch 36/100\n",
      "364808/364808 [==============================] - 36s 98us/sample - loss: 2.9398 - val_loss: 3.3995\n",
      "Epoch 37/100\n",
      "364808/364808 [==============================] - 36s 99us/sample - loss: 3.0259 - val_loss: 3.6383\n",
      "Epoch 38/100\n",
      "364808/364808 [==============================] - 36s 99us/sample - loss: 2.9629 - val_loss: 3.4576\n",
      "Epoch 39/100\n",
      "364808/364808 [==============================] - 36s 99us/sample - loss: 2.9435 - val_loss: 2.6642\n",
      "Epoch 40/100\n",
      "364808/364808 [==============================] - 35s 96us/sample - loss: 2.9508 - val_loss: 2.4854\n",
      "Epoch 41/100\n",
      "364808/364808 [==============================] - 35s 96us/sample - loss: 2.9107 - val_loss: 2.7377\n",
      "Epoch 42/100\n",
      "364808/364808 [==============================] - 33s 92us/sample - loss: 2.9703 - val_loss: 3.2062\n",
      "Epoch 43/100\n",
      "364808/364808 [==============================] - 30s 82us/sample - loss: 3.1079 - val_loss: 2.7612\n",
      "Epoch 44/100\n",
      "364808/364808 [==============================] - 30s 82us/sample - loss: 3.0829 - val_loss: 6.4679\n",
      "Epoch 45/100\n",
      "364808/364808 [==============================] - 29s 80us/sample - loss: 3.1512 - val_loss: 2.8923\n",
      "Epoch 46/100\n",
      "364808/364808 [==============================] - 30s 83us/sample - loss: 3.1309 - val_loss: 3.2377\n",
      "Epoch 47/100\n",
      "364808/364808 [==============================] - 28s 78us/sample - loss: 2.8285 - val_loss: 2.8123\n",
      "Epoch 48/100\n",
      "364808/364808 [==============================] - 28s 76us/sample - loss: 2.8639 - val_loss: 3.1673\n",
      "Epoch 49/100\n",
      "364808/364808 [==============================] - 28s 76us/sample - loss: 2.9847 - val_loss: 2.8506\n",
      "Epoch 50/100\n",
      "364808/364808 [==============================] - 26s 72us/sample - loss: 2.9492 - val_loss: 2.8727\n",
      "Epoch 51/100\n",
      "364808/364808 [==============================] - 28s 76us/sample - loss: 2.8249 - val_loss: 3.0611\n",
      "Epoch 52/100\n",
      "364808/364808 [==============================] - 27s 74us/sample - loss: 2.8475 - val_loss: 2.4875\n",
      "Epoch 53/100\n",
      "364808/364808 [==============================] - 30s 83us/sample - loss: 2.9521 - val_loss: 2.8949\n",
      "Epoch 54/100\n",
      "364808/364808 [==============================] - 33s 91us/sample - loss: 2.8551 - val_loss: 3.7830\n",
      "Epoch 55/100\n",
      "364808/364808 [==============================] - 33s 91us/sample - loss: 3.1019 - val_loss: 3.0838\n",
      "Epoch 56/100\n",
      "364808/364808 [==============================] - 31s 86us/sample - loss: 2.8564 - val_loss: 3.1640\n",
      "Epoch 57/100\n",
      "364808/364808 [==============================] - 31s 85us/sample - loss: 2.9795 - val_loss: 2.7145\n",
      "Epoch 58/100\n",
      "364808/364808 [==============================] - 30s 83us/sample - loss: 2.8053 - val_loss: 2.9762\n",
      "Epoch 59/100\n",
      "364808/364808 [==============================] - 30s 83us/sample - loss: 2.6953 - val_loss: 2.4936\n",
      "Epoch 60/100\n",
      "364808/364808 [==============================] - 33s 90us/sample - loss: 2.8816 - val_loss: 3.1956\n",
      "Epoch 61/100\n",
      "364808/364808 [==============================] - 26s 72us/sample - loss: 2.9325 - val_loss: 2.5914\n",
      "Epoch 62/100\n",
      "364808/364808 [==============================] - 26s 73us/sample - loss: 2.7819 - val_loss: 3.5782\n",
      "Epoch 63/100\n",
      "364808/364808 [==============================] - 27s 75us/sample - loss: 2.6840 - val_loss: 2.6041\n",
      "Epoch 64/100\n",
      "364808/364808 [==============================] - 27s 74us/sample - loss: 2.6504 - val_loss: 2.6243\n",
      "Epoch 65/100\n",
      "364808/364808 [==============================] - 27s 73us/sample - loss: 2.7741 - val_loss: 2.5456\n",
      "Epoch 66/100\n",
      "364808/364808 [==============================] - 28s 78us/sample - loss: 2.6006 - val_loss: 2.7198\n",
      "Epoch 67/100\n",
      "364808/364808 [==============================] - 28s 77us/sample - loss: 2.6922 - val_loss: 2.5383\n",
      "Epoch 68/100\n",
      "364808/364808 [==============================] - 28s 77us/sample - loss: 2.6704 - val_loss: 2.8319\n",
      "Epoch 69/100\n",
      "364808/364808 [==============================] - 28s 76us/sample - loss: 2.7867 - val_loss: 2.7057\n",
      "Epoch 70/100\n",
      "364808/364808 [==============================] - 28s 76us/sample - loss: 2.6670 - val_loss: 2.5740\n",
      "Epoch 71/100\n",
      "364808/364808 [==============================] - 29s 78us/sample - loss: 2.8101 - val_loss: 2.6183\n",
      "Epoch 72/100\n",
      "364808/364808 [==============================] - 29s 78us/sample - loss: 2.7078 - val_loss: 2.7696\n",
      "Epoch 73/100\n",
      "364808/364808 [==============================] - 28s 76us/sample - loss: 2.6338 - val_loss: 2.3849\n",
      "Epoch 74/100\n"
     ]
    },
    {
     "name": "stdout",
     "output_type": "stream",
     "text": [
      "364808/364808 [==============================] - 28s 77us/sample - loss: 2.7931 - val_loss: 3.6251\n",
      "Epoch 75/100\n",
      "364808/364808 [==============================] - 26s 71us/sample - loss: 2.6760 - val_loss: 2.7020\n",
      "Epoch 76/100\n",
      "364808/364808 [==============================] - 26s 71us/sample - loss: 2.6632 - val_loss: 2.6166\n",
      "Epoch 77/100\n",
      "364808/364808 [==============================] - 27s 74us/sample - loss: 2.6926 - val_loss: 2.4163\n",
      "Epoch 78/100\n",
      "364808/364808 [==============================] - 29s 80us/sample - loss: 2.7250 - val_loss: 2.7047\n",
      "Epoch 79/100\n",
      "364808/364808 [==============================] - 27s 74us/sample - loss: 2.8210 - val_loss: 2.6256\n",
      "Epoch 80/100\n",
      "364808/364808 [==============================] - 27s 74us/sample - loss: 2.6402 - val_loss: 2.8063\n",
      "Epoch 81/100\n",
      "364808/364808 [==============================] - 28s 75us/sample - loss: 2.8224 - val_loss: 2.4013\n",
      "Epoch 82/100\n",
      "364808/364808 [==============================] - 27s 74us/sample - loss: 2.5549 - val_loss: 2.3704\n",
      "Epoch 83/100\n",
      "364808/364808 [==============================] - 27s 74us/sample - loss: 2.5731 - val_loss: 2.4006\n",
      "Epoch 84/100\n",
      "364808/364808 [==============================] - 27s 73us/sample - loss: 2.7699 - val_loss: 2.5396\n",
      "Epoch 85/100\n",
      "364808/364808 [==============================] - 26s 72us/sample - loss: 2.6809 - val_loss: 3.3113\n",
      "Epoch 86/100\n",
      "364808/364808 [==============================] - 24s 66us/sample - loss: 2.6078 - val_loss: 2.5501\n",
      "Epoch 87/100\n",
      "364808/364808 [==============================] - 25s 70us/sample - loss: 2.6746 - val_loss: 2.5333\n",
      "Epoch 88/100\n",
      "364808/364808 [==============================] - 25s 70us/sample - loss: 2.7915 - val_loss: 2.7337\n",
      "Epoch 89/100\n",
      "364808/364808 [==============================] - 28s 76us/sample - loss: 2.6378 - val_loss: 2.7897\n",
      "Epoch 90/100\n",
      "364808/364808 [==============================] - 29s 80us/sample - loss: 2.6128 - val_loss: 2.3981\n",
      "Epoch 91/100\n",
      "364808/364808 [==============================] - 29s 80us/sample - loss: 2.7382 - val_loss: 2.5305\n",
      "Epoch 92/100\n",
      "364808/364808 [==============================] - 29s 80us/sample - loss: 2.5752 - val_loss: 2.5746\n",
      "Epoch 93/100\n",
      "364808/364808 [==============================] - 29s 80us/sample - loss: 2.5016 - val_loss: 2.3335\n",
      "Epoch 94/100\n",
      "364808/364808 [==============================] - 29s 79us/sample - loss: 2.6388 - val_loss: 2.6666\n",
      "Epoch 95/100\n",
      "364808/364808 [==============================] - 29s 80us/sample - loss: 2.6625 - val_loss: 2.5554\n",
      "Epoch 96/100\n",
      "364808/364808 [==============================] - 29s 79us/sample - loss: 2.6517 - val_loss: 3.7384\n",
      "Epoch 97/100\n",
      "364808/364808 [==============================] - 29s 80us/sample - loss: 2.6760 - val_loss: 2.5398\n",
      "Epoch 98/100\n",
      "364808/364808 [==============================] - 29s 80us/sample - loss: 2.7326 - val_loss: 2.7839\n",
      "Epoch 99/100\n",
      "364808/364808 [==============================] - 29s 80us/sample - loss: 2.5600 - val_loss: 2.4242\n",
      "Epoch 100/100\n",
      "364808/364808 [==============================] - 30s 81us/sample - loss: 2.6629 - val_loss: 3.0813\n"
     ]
    },
    {
     "name": "stderr",
     "output_type": "stream",
     "text": [
      "/Users/user/Library/Python/3.9/lib/python/site-packages/keras/engine/training_v1.py:2359: UserWarning: `Model.state_updates` will be removed in a future version. This property should not be used in TensorFlow 2.0, as `updates` are applied automatically.\n",
      "  updates=self.state_updates,\n",
      "2023-05-09 09:21:59.792722: W tensorflow/c/c_api.cc:300] Operation '{name:'dense_3/Relu' id:110 op device:{requested: '', assigned: ''} def:{{{node dense_3/Relu}} = Relu[T=DT_FLOAT, _has_manual_control_dependencies=true](dense_3/BiasAdd)}}' was changed by setting attribute after it was run by a session. This mutation will have no effect, and will trigger an error in the future. Either don't modify nodes after running them or create a new session.\n"
     ]
    }
   ],
   "source": [
    "# Create a Contractive Autoencoder to generate synthetic fraud data\n",
    "input_dim = X_train.shape[1]\n",
    "encoding_dim = int(input_dim / 2)\n",
    "\n",
    "input_layer = Input(shape=(input_dim,))\n",
    "encoder = Dense(encoding_dim, activation=\"tanh\", activity_regularizer=regularizers.l1(10e-5))(input_layer)\n",
    "encoder = Dense(int(encoding_dim / 2), activation=\"relu\")(encoder)\n",
    "decoder = Dense(int(encoding_dim / 2), activation='tanh')(encoder)\n",
    "decoder = Dense(input_dim, activation='relu')(decoder)\n",
    "\n",
    "# Define the Contractive loss function\n",
    "def contractive_loss(y_true, y_pred):\n",
    "    mse = tf.keras.losses.mean_squared_error(y_true, y_pred)\n",
    "    w = 1e-4 # weight given to the jacobian regularizer\n",
    "    contractive_reg = K.sum(K.square(K.gradients(y_pred, encoder)[0]), axis=1)\n",
    "    return mse + w * contractive_reg\n",
    "\n",
    "autoencoder = Model(inputs=input_layer, outputs=decoder)\n",
    "\n",
    "# Train the autoencoder on normal transactions\n",
    "X_normal = X_train[y_train == 0]\n",
    "X_normal_train, X_normal_test = train_test_split(X_normal, test_size=0.2, random_state=42)\n",
    "\n",
    "autoencoder.compile(optimizer='adam', loss=contractive_loss)\n",
    "history = autoencoder.fit(X_normal_train, X_normal_train, epochs=100, batch_size=32, validation_data=(X_normal_test, X_normal_test))\n",
    "\n",
    "# Generate synthetic fraud transactions using the trained autoencoder\n",
    "X_fraud = X_train[y_train == 1]\n",
    "synthetic_fraud = autoencoder.predict(X_fraud)\n",
    "\n",
    "noise_factor = 0.2\n",
    "encoded_normal_noisy = synthetic_fraud + noise_factor * np.random.normal(loc=0.0, scale=1.0, size=synthetic_fraud.shape)\n",
    "synthetic_fraud_data = autoencoder.predict(encoded_normal_noisy)\n",
    "\n",
    "# Combine the synthetic fraud transactions with the original fraud transactions\n",
    "X_fraud = np.vstack((X_fraud, synthetic_fraud_data))\n",
    "\n",
    "# Combine the normal transactions with the fraud transactions\n",
    "X_balanced = np.vstack((X_normal, X_fraud))\n",
    "y_balanced = np.hstack((np.zeros(X_normal.shape[0]), np.ones(X_fraud.shape[0])))"
   ]
  },
  {
   "cell_type": "code",
   "execution_count": 8,
   "id": "4fde90f8",
   "metadata": {},
   "outputs": [],
   "source": [
    "# Resample the training data using SMOTE\n",
    "smote = SMOTE(random_state=42)\n",
    "X_train_resampled, y_train_resampled = smote.fit_resample(X_balanced, y_balanced)"
   ]
  },
  {
   "cell_type": "code",
   "execution_count": 9,
   "id": "ae940724",
   "metadata": {},
   "outputs": [
    {
     "data": {
      "text/html": [
       "<style>#sk-container-id-1 {color: black;background-color: white;}#sk-container-id-1 pre{padding: 0;}#sk-container-id-1 div.sk-toggleable {background-color: white;}#sk-container-id-1 label.sk-toggleable__label {cursor: pointer;display: block;width: 100%;margin-bottom: 0;padding: 0.3em;box-sizing: border-box;text-align: center;}#sk-container-id-1 label.sk-toggleable__label-arrow:before {content: \"▸\";float: left;margin-right: 0.25em;color: #696969;}#sk-container-id-1 label.sk-toggleable__label-arrow:hover:before {color: black;}#sk-container-id-1 div.sk-estimator:hover label.sk-toggleable__label-arrow:before {color: black;}#sk-container-id-1 div.sk-toggleable__content {max-height: 0;max-width: 0;overflow: hidden;text-align: left;background-color: #f0f8ff;}#sk-container-id-1 div.sk-toggleable__content pre {margin: 0.2em;color: black;border-radius: 0.25em;background-color: #f0f8ff;}#sk-container-id-1 input.sk-toggleable__control:checked~div.sk-toggleable__content {max-height: 200px;max-width: 100%;overflow: auto;}#sk-container-id-1 input.sk-toggleable__control:checked~label.sk-toggleable__label-arrow:before {content: \"▾\";}#sk-container-id-1 div.sk-estimator input.sk-toggleable__control:checked~label.sk-toggleable__label {background-color: #d4ebff;}#sk-container-id-1 div.sk-label input.sk-toggleable__control:checked~label.sk-toggleable__label {background-color: #d4ebff;}#sk-container-id-1 input.sk-hidden--visually {border: 0;clip: rect(1px 1px 1px 1px);clip: rect(1px, 1px, 1px, 1px);height: 1px;margin: -1px;overflow: hidden;padding: 0;position: absolute;width: 1px;}#sk-container-id-1 div.sk-estimator {font-family: monospace;background-color: #f0f8ff;border: 1px dotted black;border-radius: 0.25em;box-sizing: border-box;margin-bottom: 0.5em;}#sk-container-id-1 div.sk-estimator:hover {background-color: #d4ebff;}#sk-container-id-1 div.sk-parallel-item::after {content: \"\";width: 100%;border-bottom: 1px solid gray;flex-grow: 1;}#sk-container-id-1 div.sk-label:hover label.sk-toggleable__label {background-color: #d4ebff;}#sk-container-id-1 div.sk-serial::before {content: \"\";position: absolute;border-left: 1px solid gray;box-sizing: border-box;top: 0;bottom: 0;left: 50%;z-index: 0;}#sk-container-id-1 div.sk-serial {display: flex;flex-direction: column;align-items: center;background-color: white;padding-right: 0.2em;padding-left: 0.2em;position: relative;}#sk-container-id-1 div.sk-item {position: relative;z-index: 1;}#sk-container-id-1 div.sk-parallel {display: flex;align-items: stretch;justify-content: center;background-color: white;position: relative;}#sk-container-id-1 div.sk-item::before, #sk-container-id-1 div.sk-parallel-item::before {content: \"\";position: absolute;border-left: 1px solid gray;box-sizing: border-box;top: 0;bottom: 0;left: 50%;z-index: -1;}#sk-container-id-1 div.sk-parallel-item {display: flex;flex-direction: column;z-index: 1;position: relative;background-color: white;}#sk-container-id-1 div.sk-parallel-item:first-child::after {align-self: flex-end;width: 50%;}#sk-container-id-1 div.sk-parallel-item:last-child::after {align-self: flex-start;width: 50%;}#sk-container-id-1 div.sk-parallel-item:only-child::after {width: 0;}#sk-container-id-1 div.sk-dashed-wrapped {border: 1px dashed gray;margin: 0 0.4em 0.5em 0.4em;box-sizing: border-box;padding-bottom: 0.4em;background-color: white;}#sk-container-id-1 div.sk-label label {font-family: monospace;font-weight: bold;display: inline-block;line-height: 1.2em;}#sk-container-id-1 div.sk-label-container {text-align: center;}#sk-container-id-1 div.sk-container {/* jupyter's `normalize.less` sets `[hidden] { display: none; }` but bootstrap.min.css set `[hidden] { display: none !important; }` so we also need the `!important` here to be able to override the default hidden behavior on the sphinx rendered scikit-learn.org. See: https://github.com/scikit-learn/scikit-learn/issues/21755 */display: inline-block !important;position: relative;}#sk-container-id-1 div.sk-text-repr-fallback {display: none;}</style><div id=\"sk-container-id-1\" class=\"sk-top-container\"><div class=\"sk-text-repr-fallback\"><pre>RandomForestClassifier(random_state=42)</pre><b>In a Jupyter environment, please rerun this cell to show the HTML representation or trust the notebook. <br />On GitHub, the HTML representation is unable to render, please try loading this page with nbviewer.org.</b></div><div class=\"sk-container\" hidden><div class=\"sk-item\"><div class=\"sk-estimator sk-toggleable\"><input class=\"sk-toggleable__control sk-hidden--visually\" id=\"sk-estimator-id-1\" type=\"checkbox\" checked><label for=\"sk-estimator-id-1\" class=\"sk-toggleable__label sk-toggleable__label-arrow\">RandomForestClassifier</label><div class=\"sk-toggleable__content\"><pre>RandomForestClassifier(random_state=42)</pre></div></div></div></div></div>"
      ],
      "text/plain": [
       "RandomForestClassifier(random_state=42)"
      ]
     },
     "execution_count": 9,
     "metadata": {},
     "output_type": "execute_result"
    }
   ],
   "source": [
    "# Train a random forest classifier on the resampled training data\n",
    "model = RandomForestClassifier(random_state=42)\n",
    "model.fit(X_train_resampled, y_train_resampled)"
   ]
  },
  {
   "cell_type": "code",
   "execution_count": 10,
   "id": "36e0ba02",
   "metadata": {},
   "outputs": [
    {
     "name": "stderr",
     "output_type": "stream",
     "text": [
      "/Users/user/Library/Python/3.9/lib/python/site-packages/sklearn/base.py:432: UserWarning: X has feature names, but RandomForestClassifier was fitted without feature names\n",
      "  warnings.warn(\n"
     ]
    }
   ],
   "source": [
    "# Make predictions on the testing data\n",
    "y_pred = model.predict(X_test.fillna(0))"
   ]
  },
  {
   "cell_type": "code",
   "execution_count": 11,
   "id": "0f5e1777",
   "metadata": {},
   "outputs": [
    {
     "name": "stdout",
     "output_type": "stream",
     "text": [
      "Accuracy: 0.97905307007146\n",
      "Classification report:\n",
      "              precision    recall  f1-score   support\n",
      "\n",
      "           0       0.98      1.00      0.99    113866\n",
      "           1       0.91      0.46      0.61      4242\n",
      "\n",
      "    accuracy                           0.98    118108\n",
      "   macro avg       0.94      0.73      0.80    118108\n",
      "weighted avg       0.98      0.98      0.98    118108\n",
      "\n",
      "Confusion matrix:\n",
      "[[113668    198]\n",
      " [  2276   1966]]\n"
     ]
    }
   ],
   "source": [
    "# Calculate the accuracy and other performance metrics\n",
    "print(\"Accuracy:\", accuracy_score(y_test, y_pred))\n",
    "print(\"Classification report:\")\n",
    "print(classification_report(y_test, y_pred))\n",
    "\n",
    "print(\"Confusion matrix:\")\n",
    "print(confusion_matrix(y_test, y_pred))\n",
    "\n",
    "f1 = f1_score(y_test, y_pred)\n",
    "precision = precision_score(y_test, y_pred)\n",
    "recall = recall_score(y_test, y_pred)\n",
    "tn, fp, fn, tp = confusion_matrix(y_test, y_pred).ravel()\n",
    "specificity = tn / (tn+fp)\n",
    "sensitivity = recall"
   ]
  },
  {
   "cell_type": "code",
   "execution_count": 12,
   "id": "643698ad",
   "metadata": {},
   "outputs": [
    {
     "name": "stderr",
     "output_type": "stream",
     "text": [
      "/Users/user/Library/Python/3.9/lib/python/site-packages/sklearn/base.py:432: UserWarning: X has feature names, but RandomForestClassifier was fitted without feature names\n",
      "  warnings.warn(\n"
     ]
    }
   ],
   "source": [
    "#predict the class probabilities\n",
    "y_pred_proba = model.predict_proba(X_test.fillna(0))[:, 1]"
   ]
  },
  {
   "cell_type": "code",
   "execution_count": 13,
   "id": "d1fd8d27",
   "metadata": {},
   "outputs": [
    {
     "name": "stdout",
     "output_type": "stream",
     "text": [
      "F1-score:  0.6137995629097721\n",
      "Precision:  0.9085027726432532\n",
      "Recall:  0.46346063177746344\n",
      "Specificity:  0.9982611139409482\n",
      "Sensitivity:  0.46346063177746344\n",
      "AUC:  0.9293231983154504\n"
     ]
    }
   ],
   "source": [
    "#calculate the AUC value\n",
    "from sklearn.metrics import roc_auc_score\n",
    "auc = roc_auc_score(y_test, y_pred_proba)\n",
    "print(\"F1-score: \", f1)\n",
    "print(\"Precision: \", precision)\n",
    "print(\"Recall: \", recall)\n",
    "print(\"Specificity: \", specificity)\n",
    "print(\"Sensitivity: \", sensitivity)\n",
    "print(\"AUC: \", auc)"
   ]
  },
  {
   "cell_type": "code",
   "execution_count": 14,
   "id": "84ddbc08",
   "metadata": {},
   "outputs": [
    {
     "data": {
      "image/png": "[encoded data removed]",
      "text/plain": [
       "<Figure size 640x480 with 1 Axes>"
      ]
     },
     "metadata": {},
     "output_type": "display_data"
    }
   ],
   "source": [
    "# calculate & plot the ROC curve\n",
    "fpr, tpr, thresholds = roc_curve(y_test, y_pred_proba)\n",
    "plt.plot(fpr, tpr, label='ROC curve (AUC = {:.3f})'.format(auc))\n",
    "plt.plot([0, 1], [0, 1], 'k--')  # random predictions curve\n",
    "plt.xlim([0.0, 1.0])\n",
    "plt.ylim([0.0, 1.0])\n",
    "plt.xlabel('False Positive Rate or (1 - Specifity)')\n",
    "plt.ylabel('True Positive Rate or (Sensitivity)')\n",
    "plt.title('Receiver Operating Characteristic')\n",
    "plt.legend(loc=\"lower right\")\n",
    "plt.show()"
   ]
  },
  {
   "cell_type": "code",
   "execution_count": 15,
   "id": "baca3958",
   "metadata": {},
   "outputs": [
    {
     "name": "stdout",
     "output_type": "stream",
     "text": [
      "Accuracy: 0.979053\n"
     ]
    }
   ],
   "source": [
    "accuracy = accuracy_score(y_test, y_pred)\n",
    "print(\"Accuracy: %f\" % accuracy)"
   ]
  },
  {
   "cell_type": "code",
   "execution_count": 16,
   "id": "74ba6ae8",
   "metadata": {},
   "outputs": [
    {
     "data": {
      "image/png": "[encoded data removed]",
      "text/plain": [
       "<Figure size 640x480 with 1 Axes>"
      ]
     },
     "metadata": {},
     "output_type": "display_data"
    }
   ],
   "source": [
    "# plot the loss graph\n",
    "plt.plot(history.history['loss'], label='Training loss')\n",
    "plt.plot(history.history['val_loss'], label='Validation loss')\n",
    "plt.title('Autoencoder model loss')\n",
    "plt.ylabel('Loss')\n",
    "plt.xlabel('Epoch')\n",
    "plt.legend()\n",
    "plt.show()"
   ]
  },
  {
   "cell_type": "code",
   "execution_count": 17,
   "id": "2e2aff0f",
   "metadata": {},
   "outputs": [
    {
     "name": "stdout",
     "output_type": "stream",
     "text": [
      "Matthews correlation coefficient: 0.6406339138135007\n"
     ]
    }
   ],
   "source": [
    "mcc = matthews_corrcoef(y_test, y_pred)\n",
    "\n",
    "print(\"Matthews correlation coefficient:\", mcc)"
   ]
  },
  {
   "cell_type": "code",
   "execution_count": null,
   "id": "ea2930d4",
   "metadata": {},
   "outputs": [],
   "source": []
  }
 ],
 "metadata": {
  "kernelspec": {
   "display_name": "Python 3 (ipykernel)",
   "language": "python",
   "name": "python3"
  },
  "language_info": {
   "codemirror_mode": {
    "name": "ipython",
    "version": 3
   },
   "file_extension": ".py",
   "mimetype": "text/x-python",
   "name": "python",
   "nbconvert_exporter": "python",
   "pygments_lexer": "ipython3",
   "version": "3.11.3"
  }
 },
 "nbformat": 4,
 "nbformat_minor": 5
}
